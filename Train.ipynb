{
 "cells": [
  {
   "cell_type": "code",
   "execution_count": 1,
   "metadata": {},
   "outputs": [],
   "source": [
    "%matplotlib inline"
   ]
  },
  {
   "cell_type": "code",
   "execution_count": 2,
   "metadata": {},
   "outputs": [
    {
     "name": "stderr",
     "output_type": "stream",
     "text": [
      "Using TensorFlow backend.\n",
      "/home/ubuntu/anaconda3/envs/tensorflow_p36/lib/python3.6/importlib/_bootstrap.py:219: RuntimeWarning: compiletime version 3.5 of module 'tensorflow.python.framework.fast_tensor_util' does not match runtime version 3.6\n",
      "  return f(*args, **kwds)\n"
     ]
    }
   ],
   "source": [
    "from keras.models import Model\n",
    "from keras.callbacks import TensorBoard\n",
    "from keras.models import load_model\n",
    "\n",
    "import numpy as np\n",
    "\n",
    "import matplotlib.pyplot as plt\n",
    "\n",
    "from skimage.measure import compare_psnr\n",
    "from skimage.util import view_as_windows, crop\n",
    "from skimage.data import imread\n",
    "from skimage.io import imshow\n",
    "from skimage.measure import compare_psnr\n",
    "from skimage import img_as_float\n",
    "\n",
    "from sklearn.model_selection import train_test_split\n",
    "\n",
    "from patchify import patchify, unpatchify\n",
    "\n",
    "from network import network"
   ]
  },
  {
   "cell_type": "markdown",
   "metadata": {},
   "source": [
    "# Load data"
   ]
  },
  {
   "cell_type": "code",
   "execution_count": 3,
   "metadata": {},
   "outputs": [],
   "source": [
    "dataset = np.load(\"data/images.npz\")"
   ]
  },
  {
   "cell_type": "markdown",
   "metadata": {},
   "source": [
    "# Generate noises"
   ]
  },
  {
   "cell_type": "code",
   "execution_count": 4,
   "metadata": {},
   "outputs": [],
   "source": [
    "NOISE_LEVEL = 0.067"
   ]
  },
  {
   "cell_type": "code",
   "execution_count": 5,
   "metadata": {},
   "outputs": [],
   "source": [
    "origins = dataset[\"images\"]"
   ]
  },
  {
   "cell_type": "code",
   "execution_count": 6,
   "metadata": {},
   "outputs": [],
   "source": [
    "noises = np.random.normal(0, NOISE_LEVEL, origins.shape)"
   ]
  },
  {
   "cell_type": "code",
   "execution_count": 7,
   "metadata": {},
   "outputs": [],
   "source": [
    "origin_train, origin_test, noise_train, noise_test = train_test_split(origins, noises)"
   ]
  },
  {
   "cell_type": "code",
   "execution_count": 8,
   "metadata": {},
   "outputs": [],
   "source": [
    "corrupted_train = origin_train + noise_train\n",
    "corrupted_test = origin_test + noise_test"
   ]
  },
  {
   "cell_type": "markdown",
   "metadata": {},
   "source": [
    "# Split into patches"
   ]
  },
  {
   "cell_type": "code",
   "execution_count": 9,
   "metadata": {},
   "outputs": [],
   "source": [
    "PATCH_SIZE=50\n",
    "STEP=5\n",
    "FULL_PATCH_MATRIX_SHAPE = patchify(origins[0], (PATCH_SIZE,PATCH_SIZE), STEP).shape\n",
    "PATCH_MATRIX_SHAPE = FULL_PATCH_MATRIX_SHAPE[:2]\n"
   ]
  },
  {
   "cell_type": "code",
   "execution_count": 10,
   "metadata": {},
   "outputs": [],
   "source": [
    "def patchify_batch(data):\n",
    "    patches = [\n",
    "        patchify(data[idx], (PATCH_SIZE,PATCH_SIZE), STEP).reshape(-1, PATCH_SIZE, PATCH_SIZE) \n",
    "        for idx in range(len(data))\n",
    "    ]\n",
    "    return np.concatenate(patches).reshape(-1, PATCH_SIZE, PATCH_SIZE, 1)"
   ]
  },
  {
   "cell_type": "code",
   "execution_count": 11,
   "metadata": {},
   "outputs": [
    {
     "ename": "MemoryError",
     "evalue": "",
     "output_type": "error",
     "traceback": [
      "\u001b[0;31m---------------------------------------------------------------------------\u001b[0m",
      "\u001b[0;31mMemoryError\u001b[0m                               Traceback (most recent call last)",
      "\u001b[0;32m<ipython-input-11-f4c39643be9d>\u001b[0m in \u001b[0;36m<module>\u001b[0;34m()\u001b[0m\n\u001b[1;32m      3\u001b[0m \u001b[0mtestX\u001b[0m \u001b[0;34m=\u001b[0m \u001b[0mpatchify_batch\u001b[0m\u001b[0;34m(\u001b[0m\u001b[0mcorrupted_test\u001b[0m\u001b[0;34m)\u001b[0m\u001b[0;34m\u001b[0m\u001b[0m\n\u001b[1;32m      4\u001b[0m \u001b[0mtestX\u001b[0m \u001b[0;34m=\u001b[0m \u001b[0mtestX\u001b[0m \u001b[0;34m/\u001b[0m \u001b[0mtestX\u001b[0m\u001b[0;34m.\u001b[0m\u001b[0mmax\u001b[0m\u001b[0;34m(\u001b[0m\u001b[0;34m)\u001b[0m\u001b[0;34m\u001b[0m\u001b[0m\n\u001b[0;32m----> 5\u001b[0;31m \u001b[0mtrainY\u001b[0m \u001b[0;34m=\u001b[0m \u001b[0mpatchify_batch\u001b[0m\u001b[0;34m(\u001b[0m\u001b[0mnoise_train\u001b[0m\u001b[0;34m)\u001b[0m\u001b[0;34m\u001b[0m\u001b[0m\n\u001b[0m\u001b[1;32m      6\u001b[0m \u001b[0mtestY\u001b[0m \u001b[0;34m=\u001b[0m \u001b[0mpatchify_batch\u001b[0m\u001b[0;34m(\u001b[0m\u001b[0mnoise_test\u001b[0m\u001b[0;34m)\u001b[0m\u001b[0;34m\u001b[0m\u001b[0m\n",
      "\u001b[0;32m<ipython-input-10-266100f97427>\u001b[0m in \u001b[0;36mpatchify_batch\u001b[0;34m(data)\u001b[0m\n\u001b[1;32m      4\u001b[0m         \u001b[0;32mfor\u001b[0m \u001b[0midx\u001b[0m \u001b[0;32min\u001b[0m \u001b[0mrange\u001b[0m\u001b[0;34m(\u001b[0m\u001b[0mlen\u001b[0m\u001b[0;34m(\u001b[0m\u001b[0mdata\u001b[0m\u001b[0;34m)\u001b[0m\u001b[0;34m)\u001b[0m\u001b[0;34m\u001b[0m\u001b[0m\n\u001b[1;32m      5\u001b[0m     ]\n\u001b[0;32m----> 6\u001b[0;31m     \u001b[0;32mreturn\u001b[0m \u001b[0mnp\u001b[0m\u001b[0;34m.\u001b[0m\u001b[0mconcatenate\u001b[0m\u001b[0;34m(\u001b[0m\u001b[0mpatches\u001b[0m\u001b[0;34m)\u001b[0m\u001b[0;34m.\u001b[0m\u001b[0mreshape\u001b[0m\u001b[0;34m(\u001b[0m\u001b[0;34m-\u001b[0m\u001b[0;36m1\u001b[0m\u001b[0;34m,\u001b[0m \u001b[0mPATCH_SIZE\u001b[0m\u001b[0;34m,\u001b[0m \u001b[0mPATCH_SIZE\u001b[0m\u001b[0;34m,\u001b[0m \u001b[0;36m1\u001b[0m\u001b[0;34m)\u001b[0m\u001b[0;34m\u001b[0m\u001b[0m\n\u001b[0m",
      "\u001b[0;31mMemoryError\u001b[0m: "
     ]
    }
   ],
   "source": [
    "trainX = patchify_batch(corrupted_train)\n",
    "trainX = trainX / trainX.max()\n",
    "testX = patchify_batch(corrupted_test)\n",
    "testX = testX / testX.max()\n",
    "trainY = patchify_batch(noise_train)\n",
    "testY = patchify_batch(noise_test)"
   ]
  },
  {
   "cell_type": "markdown",
   "metadata": {},
   "source": [
    "# Build network"
   ]
  },
  {
   "cell_type": "code",
   "execution_count": null,
   "metadata": {},
   "outputs": [],
   "source": [
    "input, output = network(30, 30)"
   ]
  },
  {
   "cell_type": "code",
   "execution_count": null,
   "metadata": {},
   "outputs": [],
   "source": [
    "model = Model(input, output)\n",
    "model.compile(optimizer='sgd', loss='mean_squared_error')"
   ]
  },
  {
   "cell_type": "markdown",
   "metadata": {},
   "source": [
    "# Train model"
   ]
  },
  {
   "cell_type": "code",
   "execution_count": null,
   "metadata": {},
   "outputs": [],
   "source": [
    "board = TensorBoard(log_dir='./logs/run7')"
   ]
  },
  {
   "cell_type": "code",
   "execution_count": null,
   "metadata": {},
   "outputs": [],
   "source": [
    "model.fit(x=trainX,\n",
    "          y=trainY,\n",
    "          epochs=20,\n",
    "          batch_size=512,\n",
    "          shuffle=True,\n",
    "          verbose=0,\n",
    "          validation_data=(testX, testY),\n",
    "          callbacks=[board]\n",
    "         )"
   ]
  },
  {
   "cell_type": "code",
   "execution_count": null,
   "metadata": {},
   "outputs": [],
   "source": [
    "model.save(\"model-30*30-20-30.h5\")"
   ]
  },
  {
   "cell_type": "code",
   "execution_count": null,
   "metadata": {},
   "outputs": [],
   "source": [
    "first_image_indices = PATCH_MATRIX_SHAPE[0]*PATCH_MATRIX_SHAPE[1]\n",
    "predY = model.predict(testX[:first_image_indices])\n",
    "recovered = testX[:first_image_indices] - predY\n",
    "\n",
    "\n",
    "recovered = unpatchify(recovered.reshape(FULL_PATCH_MATRIX_SHAPE), step=STEP)\n",
    "corrupted = unpatchify(testX[:first_image_indices].reshape(FULL_PATCH_MATRIX_SHAPE), step=STEP)\n",
    "original = origin_test[0]"
   ]
  },
  {
   "cell_type": "code",
   "execution_count": null,
   "metadata": {},
   "outputs": [],
   "source": [
    "plt.figure(figsize=(18,9))\n",
    "plt.subplot(131).set_title(\"original\")\n",
    "plt.imshow(original,  cmap=\"gray\")\n",
    "plt.subplot(132).set_title(\"recovered\")\n",
    "plt.imshow(recovered,  cmap=\"gray\")\n",
    "plt.subplot(133).set_title(\"corrupted\")\n",
    "plt.imshow(corrupted,  cmap=\"gray\")\n",
    "plt.legend()"
   ]
  },
  {
   "cell_type": "code",
   "execution_count": null,
   "metadata": {},
   "outputs": [],
   "source": [
    "r_h, r_w = recovered.shape\n",
    "psnr_corr = compare_psnr(original[:r_h, :r_w], corrupted[:r_h, :r_w])\n",
    "psnr_reco = compare_psnr(original[:r_h, :r_w], recovered[:r_h, :r_w])\n",
    "print(f\"psnr corrupted: {psnr_corr}, recovered: {psnr_reco}\")"
   ]
  },
  {
   "cell_type": "code",
   "execution_count": null,
   "metadata": {},
   "outputs": [],
   "source": []
  }
 ],
 "metadata": {
  "kernelspec": {
   "display_name": "Environment (conda_tensorflow_p36)",
   "language": "python",
   "name": "conda_tensorflow_p36"
  },
  "language_info": {
   "codemirror_mode": {
    "name": "ipython",
    "version": 3
   },
   "file_extension": ".py",
   "mimetype": "text/x-python",
   "name": "python",
   "nbconvert_exporter": "python",
   "pygments_lexer": "ipython3",
   "version": "3.6.3"
  }
 },
 "nbformat": 4,
 "nbformat_minor": 2
}
