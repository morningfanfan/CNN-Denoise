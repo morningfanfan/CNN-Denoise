{
 "cells": [
  {
   "cell_type": "code",
   "execution_count": 74,
   "metadata": {},
   "outputs": [],
   "source": [
    "%matplotlib inline"
   ]
  },
  {
   "cell_type": "code",
   "execution_count": 67,
   "metadata": {},
   "outputs": [],
   "source": [
    "import os\n",
    "from pathlib import Path\n",
    "\n",
    "from skimage.data import imread\n",
    "from skimage.color import rgb2gray\n",
    "from skimage.io import imshow\n",
    "from skimage import img_as_float\n",
    "\n",
    "from collections import namedtuple\n",
    "\n",
    "import numpy as np\n",
    "\n",
    "from pickle import dump"
   ]
  },
  {
   "cell_type": "code",
   "execution_count": 84,
   "metadata": {},
   "outputs": [],
   "source": [
    "def rotate(im: np.ndarray) -> np.ndarray:\n",
    "    h, w = im.shape\n",
    "    im = im if h < w else np.rot90(im)\n",
    "    return im"
   ]
  },
  {
   "cell_type": "code",
   "execution_count": 85,
   "metadata": {},
   "outputs": [],
   "source": [
    "def load_imgs(ty: str):\n",
    "    PREFIX = Path(\"images\")\n",
    "    ret = []\n",
    "    for fname in os.listdir(PREFIX/ty):\n",
    "        fpath = PREFIX / ty / fname\n",
    "        if fpath.suffix == \".jpg\":\n",
    "            im = imread(fpath)\n",
    "            im = img_as_float(im)\n",
    "            im = rgb2gray(im)\n",
    "            im = rotate(im)\n",
    "            ret.append(im)\n",
    "    return np.array(ret)"
   ]
  },
  {
   "cell_type": "code",
   "execution_count": 86,
   "metadata": {},
   "outputs": [],
   "source": [
    "DataSet = namedtuple(\"DataSet\", [\"origin\", \"noise\"])"
   ]
  },
  {
   "cell_type": "code",
   "execution_count": 87,
   "metadata": {},
   "outputs": [],
   "source": [
    "im_train = load_imgs(\"train\")\n",
    "im_test = load_imgs(\"test\")"
   ]
  },
  {
   "cell_type": "code",
   "execution_count": 88,
   "metadata": {},
   "outputs": [],
   "source": [
    "ims = np.concatenate([im_train, im_test])"
   ]
  },
  {
   "cell_type": "code",
   "execution_count": 89,
   "metadata": {},
   "outputs": [],
   "source": [
    "with open(\"data/images.npz\", \"wb\") as f:\n",
    "    np.savez_compressed(f, images=ims)"
   ]
  },
  {
   "cell_type": "code",
   "execution_count": null,
   "metadata": {},
   "outputs": [],
   "source": []
  }
 ],
 "metadata": {
  "kernelspec": {
   "display_name": "Python 3",
   "language": "python",
   "name": "python3"
  },
  "language_info": {
   "codemirror_mode": {
    "name": "ipython",
    "version": 3
   },
   "file_extension": ".py",
   "mimetype": "text/x-python",
   "name": "python",
   "nbconvert_exporter": "python",
   "pygments_lexer": "ipython3",
   "version": "3.6.3"
  }
 },
 "nbformat": 4,
 "nbformat_minor": 2
}
